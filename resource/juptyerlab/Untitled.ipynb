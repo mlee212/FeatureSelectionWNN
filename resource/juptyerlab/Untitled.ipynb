{
 "cells": [
  {
   "cell_type": "code",
   "execution_count": 1,
   "metadata": {},
   "outputs": [],
   "source": [
    "import json            # for parsing what binance sends back to us\n",
    "import pandas as pd    # for storing and manipulating the data we get back\n",
    "import numpy as np     # numerical python, i usually need this somewhere \n",
    "                       # and so i import by habit nowadays\n",
    "import matplotlib.pyplot as plt # for charts and such"
   ]
  },
  {
   "cell_type": "code",
   "execution_count": 4,
   "metadata": {},
   "outputs": [],
   "source": [
    "num = 95\n",
    "for i in range(5):\n",
    "    \n",
    "    with open(\"spec_small_bkwd\" + str(num + i) + \"data.json\", \"r\") as read_file:\n",
    "        data = pd.DataFrame(json.load(read_file))\n",
    "        data.to_excel(r'C:\\Users\\Matthew Lee\\Untitled Folder 2\\bkwddata' + str(num + i)+'.xlsx',index = False, header=True)\n",
    "    with open(\"spec_small_fwd\" + str(num + i) + \"data.json\", \"r\") as read_file:\n",
    "        data = pd.DataFrame(json.load(read_file))\n",
    "        data.to_excel(r'C:\\Users\\Matthew Lee\\Untitled Folder 2\\fwddata' + str(num + i)+'.xlsx',index = False, header=True)"
   ]
  },
  {
   "cell_type": "code",
   "execution_count": 5,
   "metadata": {},
   "outputs": [],
   "source": [
    "num = 56\n",
    "with open(\"small_bkwd\" + str(num) + \"data.json\", \"r\") as read_file:\n",
    "    data = pd.DataFrame(json.load(read_file))\n",
    "    data.to_excel(r'C:\\Users\\Matthew Lee\\Untitled Folder 2\\smlbkwddata' + str(num)+'.xlsx',index = False, header=True)\n",
    "with open(\"small_fwd\" + str(num) + \"data.json\", \"r\") as read_file:\n",
    "    data = pd.DataFrame(json.load(read_file))\n",
    "    data.to_excel(r'C:\\Users\\Matthew Lee\\Untitled Folder 2\\smlfwddata' + str(num)+'.xlsx',index = False, header=True)"
   ]
  },
  {
   "cell_type": "code",
   "execution_count": 2,
   "metadata": {},
   "outputs": [],
   "source": [
    "num = 41\n",
    "with open(\"large_fwd\" + str(num) + \"data.json\", \"r\") as read_file:\n",
    "    data = pd.DataFrame(json.load(read_file))\n",
    "    data.to_excel(r'C:\\Users\\Matthew Lee\\Untitled Folder 2\\largefwddata' + str(num)+'.xlsx',index = False, header=True)"
   ]
  },
  {
   "cell_type": "code",
   "execution_count": 3,
   "metadata": {},
   "outputs": [],
   "source": [
    "num = 41\n",
    "with open(\"large_bkwd\" + str(num) + \"data.json\", \"r\") as read_file:\n",
    "    data = pd.DataFrame(json.load(read_file))\n",
    "    data.to_excel(r'C:\\Users\\Matthew Lee\\Untitled Folder 2\\largebkwddata' + str(num)+'.xlsx',index = False, header=True)"
   ]
  },
  {
   "cell_type": "code",
   "execution_count": null,
   "metadata": {},
   "outputs": [],
   "source": [
    "data"
   ]
  },
  {
   "cell_type": "code",
   "execution_count": null,
   "metadata": {},
   "outputs": [],
   "source": []
  },
  {
   "cell_type": "code",
   "execution_count": null,
   "metadata": {},
   "outputs": [],
   "source": [
    "read_file.close()"
   ]
  },
  {
   "cell_type": "code",
   "execution_count": null,
   "metadata": {},
   "outputs": [],
   "source": []
  }
 ],
 "metadata": {
  "kernelspec": {
   "display_name": "Python 3",
   "language": "python",
   "name": "python3"
  },
  "language_info": {
   "codemirror_mode": {
    "name": "ipython",
    "version": 3
   },
   "file_extension": ".py",
   "mimetype": "text/x-python",
   "name": "python",
   "nbconvert_exporter": "python",
   "pygments_lexer": "ipython3",
   "version": "3.7.1"
  }
 },
 "nbformat": 4,
 "nbformat_minor": 2
}
